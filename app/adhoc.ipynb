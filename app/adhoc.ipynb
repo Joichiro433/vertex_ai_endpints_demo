{
 "cells": [
  {
   "cell_type": "code",
   "execution_count": 1,
   "metadata": {},
   "outputs": [],
   "source": [
    "from pathlib import Path\n",
    "import json\n",
    "\n",
    "from rich import print\n",
    "import numpy as np\n",
    "import pandas as pd\n",
    "import polars as pl\n",
    "import lightgbm as lgb\n",
    "\n",
    "REQUESTS_PATH = Path('sample-request.json')\n",
    "MODEL_PATH = Path('model.lgb')"
   ]
  },
  {
   "cell_type": "code",
   "execution_count": 2,
   "metadata": {},
   "outputs": [
    {
     "data": {
      "text/html": [
       "<div><style>\n",
       ".dataframe > thead > tr,\n",
       ".dataframe > tbody > tr {\n",
       "  text-align: right;\n",
       "  white-space: pre-wrap;\n",
       "}\n",
       "</style>\n",
       "<small>shape: (3, 4)</small><table border=\"1\" class=\"dataframe\"><thead><tr><th>bill_length_mm</th><th>bill_depth_mm</th><th>flipper_length_mm</th><th>body_mass_g</th></tr><tr><td>f64</td><td>f64</td><td>i64</td><td>i64</td></tr></thead><tbody><tr><td>39.1</td><td>18.7</td><td>181</td><td>3750</td></tr><tr><td>46.5</td><td>17.9</td><td>192</td><td>3500</td></tr><tr><td>46.1</td><td>13.2</td><td>211</td><td>4500</td></tr></tbody></table></div>"
      ],
      "text/plain": [
       "shape: (3, 4)\n",
       "┌────────────────┬───────────────┬───────────────────┬─────────────┐\n",
       "│ bill_length_mm ┆ bill_depth_mm ┆ flipper_length_mm ┆ body_mass_g │\n",
       "│ ---            ┆ ---           ┆ ---               ┆ ---         │\n",
       "│ f64            ┆ f64           ┆ i64               ┆ i64         │\n",
       "╞════════════════╪═══════════════╪═══════════════════╪═════════════╡\n",
       "│ 39.1           ┆ 18.7          ┆ 181               ┆ 3750        │\n",
       "│ 46.5           ┆ 17.9          ┆ 192               ┆ 3500        │\n",
       "│ 46.1           ┆ 13.2          ┆ 211               ┆ 4500        │\n",
       "└────────────────┴───────────────┴───────────────────┴─────────────┘"
      ]
     },
     "metadata": {},
     "output_type": "display_data"
    }
   ],
   "source": [
    "with open(REQUESTS_PATH, 'r') as f:\n",
    "    data = json.load(f)\n",
    "\n",
    "instances = data['instances']\n",
    "df_instances = pl.DataFrame(instances)\n",
    "display(df_instances)"
   ]
  },
  {
   "cell_type": "code",
   "execution_count": 8,
   "metadata": {},
   "outputs": [
    {
     "data": {
      "text/html": [
       "<pre style=\"white-space:pre;overflow-x:auto;line-height:normal;font-family:Menlo,'DejaVu Sans Mono',consolas,'Courier New',monospace\"><span style=\"font-weight: bold\">[[</span><span style=\"color: #008080; text-decoration-color: #008080; font-weight: bold\">0.99291988</span> <span style=\"color: #008080; text-decoration-color: #008080; font-weight: bold\">0.00489147</span> <span style=\"color: #008080; text-decoration-color: #008080; font-weight: bold\">0.00218865</span><span style=\"font-weight: bold\">]</span>\n",
       " <span style=\"font-weight: bold\">[</span><span style=\"color: #008080; text-decoration-color: #008080; font-weight: bold\">0.01591752</span> <span style=\"color: #008080; text-decoration-color: #008080; font-weight: bold\">0.97967967</span> <span style=\"color: #008080; text-decoration-color: #008080; font-weight: bold\">0.00440281</span><span style=\"font-weight: bold\">]</span>\n",
       " <span style=\"font-weight: bold\">[</span><span style=\"color: #008080; text-decoration-color: #008080; font-weight: bold\">0.00564193</span> <span style=\"color: #008080; text-decoration-color: #008080; font-weight: bold\">0.00662217</span> <span style=\"color: #008080; text-decoration-color: #008080; font-weight: bold\">0.9877359</span> <span style=\"font-weight: bold\">]]</span>\n",
       "</pre>\n"
      ],
      "text/plain": [
       "\u001b[1m[\u001b[0m\u001b[1m[\u001b[0m\u001b[1;36m0.99291988\u001b[0m \u001b[1;36m0.00489147\u001b[0m \u001b[1;36m0.00218865\u001b[0m\u001b[1m]\u001b[0m\n",
       " \u001b[1m[\u001b[0m\u001b[1;36m0.01591752\u001b[0m \u001b[1;36m0.97967967\u001b[0m \u001b[1;36m0.00440281\u001b[0m\u001b[1m]\u001b[0m\n",
       " \u001b[1m[\u001b[0m\u001b[1;36m0.00564193\u001b[0m \u001b[1;36m0.00662217\u001b[0m \u001b[1;36m0.9877359\u001b[0m \u001b[1m]\u001b[0m\u001b[1m]\u001b[0m\n"
      ]
     },
     "metadata": {},
     "output_type": "display_data"
    }
   ],
   "source": [
    "model = lgb.Booster(model_file=MODEL_PATH)\n",
    "preds = model.predict(df_instances.to_pandas())\n",
    "print(preds)"
   ]
  },
  {
   "cell_type": "code",
   "execution_count": null,
   "metadata": {},
   "outputs": [],
   "source": []
  }
 ],
 "metadata": {
  "kernelspec": {
   "display_name": ".venv",
   "language": "python",
   "name": "python3"
  },
  "language_info": {
   "codemirror_mode": {
    "name": "ipython",
    "version": 3
   },
   "file_extension": ".py",
   "mimetype": "text/x-python",
   "name": "python",
   "nbconvert_exporter": "python",
   "pygments_lexer": "ipython3",
   "version": "3.10.12"
  }
 },
 "nbformat": 4,
 "nbformat_minor": 2
}
